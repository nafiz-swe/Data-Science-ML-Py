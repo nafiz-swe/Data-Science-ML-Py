{
 "cells": [
  {
   "cell_type": "markdown",
   "id": "3466b3d9",
   "metadata": {},
   "source": [
    "### Read data from income.csv and scale the relevant features using standardization"
   ]
  },
  {
   "cell_type": "code",
   "execution_count": 2,
   "id": "731e019d",
   "metadata": {},
   "outputs": [
    {
     "name": "stdout",
     "output_type": "stream",
     "text": [
      "Column names in dataset: Index(['Name', 'Age', 'Income', 'Buy'], dtype='object')\n"
     ]
    }
   ],
   "source": [
    "import pandas as pd\n",
    "\n",
    "# Load the dataset\n",
    "data = pd.read_csv(\"income.csv\")\n",
    "\n",
    "print(\"Column names in dataset:\", data.columns)\n"
   ]
  },
  {
   "cell_type": "code",
   "execution_count": 3,
   "id": "5dc563b6-cb66-4aaf-89b4-6d3fe8e34a29",
   "metadata": {},
   "outputs": [
    {
     "name": "stdout",
     "output_type": "stream",
     "text": [
      "\n",
      "Standardized Data:\n",
      "      Name       Age    Income  Buy\n",
      "0      Rob -1.356055 -0.480684  Yes\n",
      "1  Michael -1.009157 -0.010159   No\n",
      "2    Mohan -1.009157 -0.692421  Yes\n",
      "3   Ismail -1.182606 -0.715947  Yes\n",
      "4     Kory  1.245679  1.401417   No\n"
     ]
    }
   ],
   "source": [
    "from sklearn.preprocessing import StandardScaler\n",
    "\n",
    "features_to_scale = ['Age', 'Income']\n",
    "\n",
    "scaler = StandardScaler()\n",
    "data[features_to_scale] = scaler.fit_transform(data[features_to_scale])\n",
    "\n",
    "print(\"\\nStandardized Data:\")\n",
    "print(data.head())\n"
   ]
  },
  {
   "cell_type": "code",
   "execution_count": null,
   "id": "80184d9f-da5c-42b3-99ff-1c3ece090d47",
   "metadata": {},
   "outputs": [],
   "source": []
  }
 ],
 "metadata": {
  "kernelspec": {
   "display_name": "Python 3 (ipykernel)",
   "language": "python",
   "name": "python3"
  },
  "language_info": {
   "codemirror_mode": {
    "name": "ipython",
    "version": 3
   },
   "file_extension": ".py",
   "mimetype": "text/x-python",
   "name": "python",
   "nbconvert_exporter": "python",
   "pygments_lexer": "ipython3",
   "version": "3.12.4"
  }
 },
 "nbformat": 4,
 "nbformat_minor": 5
}
