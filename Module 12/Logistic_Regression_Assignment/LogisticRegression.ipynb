{
 "cells": [
  {
   "cell_type": "code",
   "execution_count": 5,
   "id": "738bbcd8",
   "metadata": {},
   "outputs": [],
   "source": [
    "import pandas as pd\n",
    "from matplotlib import pyplot as plt"
   ]
  },
  {
   "cell_type": "markdown",
   "id": "fc497ff9",
   "metadata": {},
   "source": [
    "**load the csv**"
   ]
  },
  {
   "cell_type": "code",
   "execution_count": 19,
   "id": "ef430b11",
   "metadata": {},
   "outputs": [
    {
     "name": "stdout",
     "output_type": "stream",
     "text": [
      "   Pclass     Fare  Survived\n",
      "0       3   7.2500         0\n",
      "1       1  71.2833         1\n",
      "2       3   7.9250         1\n",
      "3       1  53.1000         1\n",
      "4       3   8.0500         0\n",
      "Index(['Pclass', 'Fare', 'Survived'], dtype='object')\n"
     ]
    }
   ],
   "source": [
    "#code here\n",
    "\n",
    "df = pd.read_csv('titanic_full.csv')\n",
    "print (df.head())\n",
    "print(df.columns)"
   ]
  },
  {
   "cell_type": "code",
   "execution_count": 27,
   "id": "01e83710",
   "metadata": {},
   "outputs": [
    {
     "data": {
      "text/html": [
       "<div>\n",
       "<style scoped>\n",
       "    .dataframe tbody tr th:only-of-type {\n",
       "        vertical-align: middle;\n",
       "    }\n",
       "\n",
       "    .dataframe tbody tr th {\n",
       "        vertical-align: top;\n",
       "    }\n",
       "\n",
       "    .dataframe thead th {\n",
       "        text-align: right;\n",
       "    }\n",
       "</style>\n",
       "<table border=\"1\" class=\"dataframe\">\n",
       "  <thead>\n",
       "    <tr style=\"text-align: right;\">\n",
       "      <th></th>\n",
       "      <th>Pclass</th>\n",
       "      <th>Fare</th>\n",
       "      <th>Survived</th>\n",
       "    </tr>\n",
       "  </thead>\n",
       "  <tbody>\n",
       "    <tr>\n",
       "      <th>0</th>\n",
       "      <td>3</td>\n",
       "      <td>7.2500</td>\n",
       "      <td>0</td>\n",
       "    </tr>\n",
       "    <tr>\n",
       "      <th>1</th>\n",
       "      <td>1</td>\n",
       "      <td>71.2833</td>\n",
       "      <td>1</td>\n",
       "    </tr>\n",
       "    <tr>\n",
       "      <th>2</th>\n",
       "      <td>3</td>\n",
       "      <td>7.9250</td>\n",
       "      <td>1</td>\n",
       "    </tr>\n",
       "    <tr>\n",
       "      <th>3</th>\n",
       "      <td>1</td>\n",
       "      <td>53.1000</td>\n",
       "      <td>1</td>\n",
       "    </tr>\n",
       "    <tr>\n",
       "      <th>4</th>\n",
       "      <td>3</td>\n",
       "      <td>8.0500</td>\n",
       "      <td>0</td>\n",
       "    </tr>\n",
       "    <tr>\n",
       "      <th>...</th>\n",
       "      <td>...</td>\n",
       "      <td>...</td>\n",
       "      <td>...</td>\n",
       "    </tr>\n",
       "    <tr>\n",
       "      <th>1303</th>\n",
       "      <td>3</td>\n",
       "      <td>8.0500</td>\n",
       "      <td>0</td>\n",
       "    </tr>\n",
       "    <tr>\n",
       "      <th>1304</th>\n",
       "      <td>1</td>\n",
       "      <td>108.9000</td>\n",
       "      <td>1</td>\n",
       "    </tr>\n",
       "    <tr>\n",
       "      <th>1305</th>\n",
       "      <td>3</td>\n",
       "      <td>7.2500</td>\n",
       "      <td>0</td>\n",
       "    </tr>\n",
       "    <tr>\n",
       "      <th>1306</th>\n",
       "      <td>3</td>\n",
       "      <td>8.0500</td>\n",
       "      <td>0</td>\n",
       "    </tr>\n",
       "    <tr>\n",
       "      <th>1307</th>\n",
       "      <td>3</td>\n",
       "      <td>22.3583</td>\n",
       "      <td>0</td>\n",
       "    </tr>\n",
       "  </tbody>\n",
       "</table>\n",
       "<p>1308 rows × 3 columns</p>\n",
       "</div>"
      ],
      "text/plain": [
       "      Pclass      Fare  Survived\n",
       "0          3    7.2500         0\n",
       "1          1   71.2833         1\n",
       "2          3    7.9250         1\n",
       "3          1   53.1000         1\n",
       "4          3    8.0500         0\n",
       "...      ...       ...       ...\n",
       "1303       3    8.0500         0\n",
       "1304       1  108.9000         1\n",
       "1305       3    7.2500         0\n",
       "1306       3    8.0500         0\n",
       "1307       3   22.3583         0\n",
       "\n",
       "[1308 rows x 3 columns]"
      ]
     },
     "execution_count": 27,
     "metadata": {},
     "output_type": "execute_result"
    }
   ],
   "source": []
  },
  {
   "cell_type": "markdown",
   "id": "69405519",
   "metadata": {},
   "source": [
    "**Check the null value**"
   ]
  },
  {
   "cell_type": "code",
   "execution_count": 13,
   "id": "8e7de775",
   "metadata": {},
   "outputs": [
    {
     "name": "stdout",
     "output_type": "stream",
     "text": [
      "Pclass      0\n",
      "Fare        0\n",
      "Survived    0\n",
      "dtype: int64\n"
     ]
    }
   ],
   "source": [
    "#code here\n",
    "null_value = df.isnull().sum()\n",
    "print(null_value)"
   ]
  },
  {
   "cell_type": "code",
   "execution_count": 28,
   "id": "fc09c315",
   "metadata": {},
   "outputs": [
    {
     "data": {
      "text/plain": [
       "Pclass      0\n",
       "Fare        0\n",
       "Survived    0\n",
       "dtype: int64"
      ]
     },
     "execution_count": 28,
     "metadata": {},
     "output_type": "execute_result"
    }
   ],
   "source": []
  },
  {
   "cell_type": "markdown",
   "id": "81e88032",
   "metadata": {},
   "source": [
    "**Plot the data**"
   ]
  },
  {
   "cell_type": "code",
   "execution_count": 30,
   "id": "2a059b59",
   "metadata": {},
   "outputs": [
    {
     "data": {
      "image/png": "[encoded data removed]",
      "text/plain": [
       "<Figure size 400x270 with 1 Axes>"
      ]
     },
     "metadata": {},
     "output_type": "display_data"
    }
   ],
   "source": [
    "import pandas as pd\n",
    "import matplotlib.pyplot as plt\n",
    "\n",
    "df = pd.read_csv('titanic_full.csv')\n",
    "\n",
    "plt.figure(figsize=(4, 2.7))\n",
    "\n",
    "plt.scatter(df['Fare'], df['Survived'], color='red', marker='+')\n",
    "plt.xlabel('Fare')\n",
    "plt.ylabel('Survived')\n",
    "plt.title('Scatter Plot of Fare vs. Survival')\n",
    "plt.show()\n",
    "\n",
    "\n"
   ]
  },
  {
   "cell_type": "code",
   "execution_count": 29,
   "id": "85006a5c",
   "metadata": {},
   "outputs": [
    {
     "data": {
      "text/plain": [
       "<matplotlib.collections.PathCollection at 0x24e31e0d210>"
      ]
     },
     "execution_count": 29,
     "metadata": {},
     "output_type": "execute_result"
    },
    {
     "data": {
      "image/png": "[encoded data removed]",
      "text/plain": [
       "<Figure size 432x288 with 1 Axes>"
      ]
     },
     "metadata": {
      "needs_background": "light"
     },
     "output_type": "display_data"
    }
   ],
   "source": []
  },
  {
   "cell_type": "markdown",
   "id": "f300b021",
   "metadata": {},
   "source": [
    "**Separate the Features a target in x and y**"
   ]
  },
  {
   "cell_type": "code",
   "execution_count": 31,
   "id": "f6a31bcf",
   "metadata": {},
   "outputs": [
    {
     "name": "stdout",
     "output_type": "stream",
     "text": [
      "Features (X):\n",
      "   Pclass     Fare\n",
      "0       3   7.2500\n",
      "1       1  71.2833\n",
      "2       3   7.9250\n",
      "3       1  53.1000\n",
      "4       3   8.0500\n",
      "\n",
      "Target (y):\n",
      "0    0\n",
      "1    1\n",
      "2    1\n",
      "3    1\n",
      "4    0\n",
      "Name: Survived, dtype: int64\n"
     ]
    }
   ],
   "source": [
    "#code here  \n",
    "import pandas as pd\n",
    "\n",
    "df = pd.read_csv('titanic_full.csv')\n",
    "\n",
    "X = df[['Pclass', 'Fare']]\n",
    "y = df['Survived']\n",
    "\n",
    "print(\"Features (X):\")\n",
    "print(X.head())\n",
    "\n",
    "print(\"\\nTarget (y):\")\n",
    "print(y.head())\n"
   ]
  },
  {
   "cell_type": "markdown",
   "id": "82344ded",
   "metadata": {},
   "source": [
    "**Split the train and test data**"
   ]
  },
  {
   "cell_type": "code",
   "execution_count": 35,
   "id": "43edf2c2",
   "metadata": {},
   "outputs": [
    {
     "name": "stdout",
     "output_type": "stream",
     "text": [
      "X_train shape: (1046, 2)\n",
      "X_test shape: (262, 2)\n",
      "y_train shape: (1046,)\n",
      "y_test shape: (262,)\n"
     ]
    }
   ],
   "source": [
    "#code here\n",
    "\n",
    "import pandas as pd\n",
    "from sklearn.model_selection import train_test_split\n",
    "\n",
    "X = df[['Pclass', 'Fare']]\n",
    "y = df['Survived']\n",
    "\n",
    "X_train, X_test, y_train, y_test = train_test_split(X, y, test_size=0.2, random_state=42)\n",
    "\n",
    "print(\"X_train shape:\", X_train.shape)\n",
    "print(\"X_test shape:\", X_test.shape)\n",
    "print(\"y_train shape:\", y_train.shape)\n",
    "print(\"y_test shape:\", y_test.shape)\n"
   ]
  },
  {
   "cell_type": "markdown",
   "id": "416b709d",
   "metadata": {},
   "source": [
    "**Make the model Binary logistic regression model**"
   ]
  },
  {
   "cell_type": "code",
   "execution_count": 36,
   "id": "adccec50",
   "metadata": {},
   "outputs": [
    {
     "name": "stdout",
     "output_type": "stream",
     "text": [
      "Accuracy: 0.6145038167938931\n",
      "Confusion Matrix:\n",
      "[[129  17]\n",
      " [ 84  32]]\n",
      "Classification Report:\n",
      "              precision    recall  f1-score   support\n",
      "\n",
      "           0       0.61      0.88      0.72       146\n",
      "           1       0.65      0.28      0.39       116\n",
      "\n",
      "    accuracy                           0.61       262\n",
      "   macro avg       0.63      0.58      0.55       262\n",
      "weighted avg       0.63      0.61      0.57       262\n",
      "\n"
     ]
    }
   ],
   "source": [
    "#code here\n",
    "import pandas as pd\n",
    "from sklearn.model_selection import train_test_split\n",
    "from sklearn.linear_model import LogisticRegression\n",
    "from sklearn.metrics import accuracy_score, confusion_matrix, classification_report\n",
    "\n",
    "X = df[['Pclass', 'Fare']]\n",
    "y = df['Survived']\n",
    "\n",
    "X_train, X_test, y_train, y_test = train_test_split(X, y, test_size=0.2, random_state=42)\n",
    "\n",
    "model = LogisticRegression()\n",
    "\n",
    "model.fit(X_train, y_train)\n",
    "\n",
    "y_pred = model.predict(X_test)\n",
    "\n",
    "accuracy = accuracy_score(y_test, y_pred)\n",
    "\n",
    "print(f\"Accuracy: {accuracy}\")\n",
    "\n",
    "conf_matrix = confusion_matrix(y_test, y_pred)\n",
    "print(\"Confusion Matrix:\")\n",
    "print(conf_matrix)\n",
    "\n",
    "class_report = classification_report(y_test, y_pred)\n",
    "print(\"Classification Report:\")\n",
    "print(class_report)\n"
   ]
  },
  {
   "cell_type": "markdown",
   "id": "ce05262c",
   "metadata": {},
   "source": [
    "**Check the model score**"
   ]
  },
  {
   "cell_type": "code",
   "execution_count": 37,
   "id": "4e2dc8fc",
   "metadata": {},
   "outputs": [
    {
     "name": "stdout",
     "output_type": "stream",
     "text": [
      "Accuracy: 0.6145038167938931\n",
      "Confusion Matrix:\n",
      "[[129  17]\n",
      " [ 84  32]]\n",
      "Classification Report:\n",
      "              precision    recall  f1-score   support\n",
      "\n",
      "           0       0.61      0.88      0.72       146\n",
      "           1       0.65      0.28      0.39       116\n",
      "\n",
      "    accuracy                           0.61       262\n",
      "   macro avg       0.63      0.58      0.55       262\n",
      "weighted avg       0.63      0.61      0.57       262\n",
      "\n"
     ]
    }
   ],
   "source": [
    "#code here\n",
    "import pandas as pd\n",
    "from sklearn.model_selection import train_test_split\n",
    "from sklearn.linear_model import LogisticRegression\n",
    "from sklearn.metrics import accuracy_score, confusion_matrix, classification_report\n",
    "\n",
    "X = df[['Pclass', 'Fare']]\n",
    "y = df['Survived']\n",
    "\n",
    "X_train, X_test, y_train, y_test = train_test_split(X, y, test_size=0.2, random_state=42)\n",
    "\n",
    "model = LogisticRegression()\n",
    "\n",
    "model.fit(X_train, y_train)\n",
    "\n",
    "y_pred = model.predict(X_test)\n",
    "\n",
    "accuracy = accuracy_score(y_test, y_pred)\n",
    "\n",
    "print(f\"Accuracy: {accuracy}\")\n",
    "\n",
    "conf_matrix = confusion_matrix(y_test, y_pred)\n",
    "print(\"Confusion Matrix:\")\n",
    "print(conf_matrix)\n",
    "\n",
    "class_report = classification_report(y_test, y_pred)\n",
    "print(\"Classification Report:\")\n",
    "print(class_report)\n"
   ]
  },
  {
   "cell_type": "code",
   "execution_count": null,
   "id": "d6180d8d-3c80-4683-a50d-c4eb4cad621d",
   "metadata": {},
   "outputs": [],
   "source": []
  }
 ],
 "metadata": {
  "kernelspec": {
   "display_name": "Python 3 (ipykernel)",
   "language": "python",
   "name": "python3"
  },
  "language_info": {
   "codemirror_mode": {
    "name": "ipython",
    "version": 3
   },
   "file_extension": ".py",
   "mimetype": "text/x-python",
   "name": "python",
   "nbconvert_exporter": "python",
   "pygments_lexer": "ipython3",
   "version": "3.12.4"
  }
 },
 "nbformat": 4,
 "nbformat_minor": 5
}
